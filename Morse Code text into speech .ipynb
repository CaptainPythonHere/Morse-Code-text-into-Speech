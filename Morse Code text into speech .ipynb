{
 "cells": [
  {
   "cell_type": "code",
   "execution_count": 1,
   "metadata": {},
   "outputs": [],
   "source": [
    "\n",
    "dct = { 'A':'.-', 'B':'-...', \n",
    "     'C':'-.-.', 'D':'-..', 'E':'.', \n",
    "     'F':'..-.', 'G':'--.', 'H':'....', \n",
    "     'I':'..', 'J':'.---', 'K':'-.-', \n",
    "     'L':'.-..', 'M':'--', 'N':'-.', \n",
    "     'O':'---', 'P':'.--.', 'Q':'--.-', \n",
    "     'R':'.-.', 'S':'...', 'T':'-', \n",
    "     'U':'..-', 'V':'...-', 'W':'.--', \n",
    "     'X':'-..-', 'Y':'-.--', 'Z':'--..', \n",
    "     '1':'.----', '2':'..---', '3':'...--', \n",
    "     '4':'....-', '5':'.....', '6':'-....', \n",
    "     '7':'--...', '8':'---..', '9':'----.', \n",
    "     '0':'-----', ', ':'--..--', '.':'.-.-.-', \n",
    "     '?':'..--..', '/':'-..-.', '-':'-....-', \n",
    "     '(':'-.--.', ')':'-.--.-'} \n",
    "\n",
    "def encryption(string):                    #encrypting any message into Morse Code\n",
    "    encoded = \"\"\n",
    "    string = string.upper()\n",
    "    for i in string:       \n",
    "        if i == \" \":\n",
    "            encoded += \" \"\n",
    "        else:\n",
    "            encoded += dct[i] + \" \"        \n",
    "    return encoded\n",
    "\n",
    "def decryption(morse_code):                #decrypting the Morse Code\n",
    "    decrypted = \"\"\n",
    "    print(morse_code.split(\" \"))\n",
    "    for i in morse_code.split(\" \"):\n",
    "        for j in dct:\n",
    "            if i == dct[j]:\n",
    "                decrypted += j\n",
    "            if i=='':\n",
    "                decrypted +=' '\n",
    "    return decrypted"
   ]
  },
  {
   "cell_type": "code",
   "execution_count": 2,
   "metadata": {},
   "outputs": [
    {
     "data": {
      "text/plain": [
       "'.... . .-.. .-.. ---  .-- --- .-. .-.. -.. '"
      ]
     },
     "execution_count": 2,
     "metadata": {},
     "output_type": "execute_result"
    }
   ],
   "source": [
    "#encrypting \"Hello World\" into Morse Code\n",
    "encryption(\"Hello World\")"
   ]
  },
  {
   "cell_type": "code",
   "execution_count": 3,
   "metadata": {},
   "outputs": [
    {
     "name": "stdout",
     "output_type": "stream",
     "text": [
      "['....', '.', '.-..', '.-..', '---', '', '.--', '---', '.-.', '.-..', '-..', '']\n"
     ]
    },
    {
     "data": {
      "text/plain": [
       "'HELLO                                           WORLD                                           '"
      ]
     },
     "execution_count": 3,
     "metadata": {},
     "output_type": "execute_result"
    }
   ],
   "source": [
    "#decrypting the Morse Code\n",
    "decryption('.... . .-.. .-.. ---  .-- --- .-. .-.. -.. ')"
   ]
  },
  {
   "cell_type": "code",
   "execution_count": 4,
   "metadata": {},
   "outputs": [
    {
     "name": "stdout",
     "output_type": "stream",
     "text": [
      "Enter Your Message in Morse Code: .... . .-.. .-.. ---  .-- --- .-. .-.. -..\n",
      "['....', '.', '.-..', '.-..', '---', '', '.--', '---', '.-.', '.-..', '-..']\n"
     ]
    },
    {
     "data": {
      "text/plain": [
       "0"
      ]
     },
     "execution_count": 4,
     "metadata": {},
     "output_type": "execute_result"
    }
   ],
   "source": [
    "#using Google's text to speech to convert Morse Code into speech, requires internet \n",
    "from gtts import gTTS\n",
    "import os\n",
    "#taking Morse Code as input\n",
    "inp = input(\"Enter Your Message in Morse Code: \")\n",
    "#calling the decryption function below\n",
    "mytext = decryption(inp)\n",
    "language = 'en'\n",
    "full_msg = \"The decrypted message is.\" + mytext\n",
    "myobj = gTTS(text=full_msg, lang=language, slow=False) \n",
    "myobj.save(\"file.mp3\")\n",
    "os.system(\"file.mp3\")"
   ]
  },
  {
   "cell_type": "code",
   "execution_count": 5,
   "metadata": {},
   "outputs": [
    {
     "name": "stdout",
     "output_type": "stream",
     "text": [
      "['....', '.', '.-..', '.-..', '---', '', '.--', '---', '.-.', '.-..', '-..']\n"
     ]
    }
   ],
   "source": [
    "#using Python's text to speech, works offline \n",
    "import pyttsx3\n",
    "mytext = decryption(inp)\n",
    "eng = pyttsx3.init()\n",
    "eng.say(mytext)\n",
    "eng.runAndWait() "
   ]
  },
  {
   "cell_type": "code",
   "execution_count": null,
   "metadata": {},
   "outputs": [],
   "source": []
  }
 ],
 "metadata": {
  "kernelspec": {
   "display_name": "Python 3",
   "language": "python",
   "name": "python3"
  },
  "language_info": {
   "codemirror_mode": {
    "name": "ipython",
    "version": 3
   },
   "file_extension": ".py",
   "mimetype": "text/x-python",
   "name": "python",
   "nbconvert_exporter": "python",
   "pygments_lexer": "ipython3",
   "version": "3.7.1"
  }
 },
 "nbformat": 4,
 "nbformat_minor": 2
}
